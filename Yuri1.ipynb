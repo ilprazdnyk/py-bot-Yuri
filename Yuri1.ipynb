{
  "nbformat": 4,
  "nbformat_minor": 0,
  "metadata": {
    "colab": {
      "name": "Yuri1.ipynb",
      "provenance": []
    },
    "kernelspec": {
      "name": "python3",
      "display_name": "Python 3"
    },
    "accelerator": "GPU"
  },
  "cells": [
    {
      "cell_type": "code",
      "metadata": {
        "id": "pP4qSGUKe1WM",
        "colab_type": "code",
        "colab": {
          "base_uri": "https://localhost:8080/",
          "height": 34
        },
        "outputId": "97c55c1b-8fd0-4533-f019-a93ba9a7523e"
      },
      "source": [
        "!python -c 'import tensorflow as tf; print(tf.__version__)' \n"
      ],
      "execution_count": 1,
      "outputs": [
        {
          "output_type": "stream",
          "text": [
            "1.15.0\n"
          ],
          "name": "stdout"
        }
      ]
    },
    {
      "cell_type": "code",
      "metadata": {
        "id": "ioLbtB3uGKPX",
        "colab_type": "code",
        "colab": {}
      },
      "source": [
        "import torch\n"
      ],
      "execution_count": 0,
      "outputs": []
    },
    {
      "cell_type": "code",
      "metadata": {
        "id": "FTa3WkKKf8J1",
        "colab_type": "code",
        "colab": {
          "base_uri": "https://localhost:8080/",
          "height": 34
        },
        "outputId": "ba2996e8-c6ff-4ac5-df5a-4617aecdef3d"
      },
      "source": [
        "from transformers import GPT2Tokenizer, GPT2DoubleHeadsModel\n",
        "\n",
        "tokenizer = GPT2Tokenizer.from_pretrained('gpt2')\n",
        "model = GPT2DoubleHeadsModel.from_pretrained('gpt2')\n",
        "\n",
        "# Add a [CLS] to the vocabulary (we should train it also!)\n",
        "tokenizer.add_special_tokens({'cls_token': '[CLS]'})\n",
        "model.resize_token_embeddings(len(tokenizer))  # Update the model embeddings with the new vocabulary size\n",
        "print(tokenizer.cls_token_id, len(tokenizer))  # The newly token the last token of the vocabulary\n",
        "\n",
        "choices = [\"Hello, my dog is cute [CLS]\", \"Hello, my cat is cute [CLS]\"]\n",
        "encoded_choices = [tokenizer.encode(s) for s in choices]\n",
        "cls_token_location = [tokens.index(tokenizer.cls_token_id) for tokens in encoded_choices]\n",
        "\n",
        "input_ids = torch.tensor(encoded_choices).unsqueeze(0)  # Batch size: 1, number of choices: 2\n",
        "mc_token_ids = torch.tensor([cls_token_location])  # Batch size: 1\n",
        "\n",
        "outputs = model(input_ids, mc_token_ids=mc_token_ids)\n",
        "lm_prediction_scores, mc_prediction_scores = outputs[:2]"
      ],
      "execution_count": 6,
      "outputs": [
        {
          "output_type": "stream",
          "text": [
            "50257 50258\n"
          ],
          "name": "stdout"
        }
      ]
    }
  ]
}