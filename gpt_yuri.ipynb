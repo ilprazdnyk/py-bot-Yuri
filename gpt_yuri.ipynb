{
  "nbformat": 4,
  "nbformat_minor": 0,
  "metadata": {
    "colab": {
      "name": "gpt-yuri.ipynb",
      "provenance": [],
      "include_colab_link": true
    },
    "kernelspec": {
      "name": "python3",
      "display_name": "Python 3"
    },
    "accelerator": "GPU"
  },
  "cells": [
    {
      "cell_type": "markdown",
      "metadata": {
        "id": "view-in-github",
        "colab_type": "text"
      },
      "source": [
        "<a href=\"https://colab.research.google.com/github/ilprazdnyk/py-bot-yuri/blob/master/gpt_yuri.ipynb\" target=\"_parent\"><img src=\"https://colab.research.google.com/assets/colab-badge.svg\" alt=\"Open In Colab\"/></a>"
      ]
    },
    {
      "cell_type": "code",
      "metadata": {
        "id": "bUNz_us9ONQ5",
        "colab_type": "code",
        "colab": {
          "base_uri": "https://localhost:8080/",
          "height": 137
        },
        "outputId": "d1adffcc-b063-474c-b6f4-22a888507653"
      },
      "source": [
        "!git clone https://github.com/openai/gpt-2.git"
      ],
      "execution_count": 1,
      "outputs": [
        {
          "output_type": "stream",
          "text": [
            "Cloning into 'gpt-2'...\n",
            "remote: Enumerating objects: 9, done.\u001b[K\n",
            "remote: Counting objects: 100% (9/9), done.\u001b[K\n",
            "remote: Compressing objects: 100% (7/7), done.\u001b[K\n",
            "remote: Total 218 (delta 2), reused 8 (delta 2), pack-reused 209\u001b[K\n",
            "Receiving objects: 100% (218/218), 4.38 MiB | 3.48 MiB/s, done.\n",
            "Resolving deltas: 100% (112/112), done.\n"
          ],
          "name": "stdout"
        }
      ]
    },
    {
      "cell_type": "code",
      "metadata": {
        "id": "ktvpZhQScXD_",
        "colab_type": "code",
        "colab": {
          "base_uri": "https://localhost:8080/",
          "height": 34
        },
        "outputId": "c778afd9-cd76-45ec-d15b-24a8bf1274c7"
      },
      "source": [
        "pwd"
      ],
      "execution_count": 1,
      "outputs": [
        {
          "output_type": "execute_result",
          "data": {
            "text/plain": [
              "'/content'"
            ]
          },
          "metadata": {
            "tags": []
          },
          "execution_count": 1
        }
      ]
    },
    {
      "cell_type": "code",
      "metadata": {
        "id": "SRmNUeyicbbP",
        "colab_type": "code",
        "colab": {
          "base_uri": "https://localhost:8080/",
          "height": 34
        },
        "outputId": "a1ba46d0-c124-484c-87d3-887fd149682c"
      },
      "source": [
        "ls"
      ],
      "execution_count": 2,
      "outputs": [
        {
          "output_type": "stream",
          "text": [
            "\u001b[0m\u001b[01;34mdrive\u001b[0m/  \u001b[01;34mgpt-2\u001b[0m/  \u001b[01;34msample_data\u001b[0m/\n"
          ],
          "name": "stdout"
        }
      ]
    },
    {
      "cell_type": "code",
      "metadata": {
        "id": "NDTZNDFxciTS",
        "colab_type": "code",
        "colab": {
          "base_uri": "https://localhost:8080/",
          "height": 34
        },
        "outputId": "86b85d0b-18dc-4cd6-842a-0b394747b7b4"
      },
      "source": [
        "cd gpt-2/"
      ],
      "execution_count": 3,
      "outputs": [
        {
          "output_type": "stream",
          "text": [
            "/content/gpt-2\n"
          ],
          "name": "stdout"
        }
      ]
    },
    {
      "cell_type": "code",
      "metadata": {
        "id": "CPwdOfqScld0",
        "colab_type": "code",
        "colab": {
          "base_uri": "https://localhost:8080/",
          "height": 68
        },
        "outputId": "b3cd5fb2-109c-4c49-f837-12fcb363ea4e"
      },
      "source": [
        "ls"
      ],
      "execution_count": 5,
      "outputs": [
        {
          "output_type": "stream",
          "text": [
            "CONTRIBUTORS.md  Dockerfile.gpu     LICENSE        requirements.txt\n",
            "DEVELOPERS.md    domains.txt        model_card.md  \u001b[0m\u001b[01;34msrc\u001b[0m/\n",
            "Dockerfile.cpu   download_model.py  README.md\n"
          ],
          "name": "stdout"
        }
      ]
    },
    {
      "cell_type": "code",
      "metadata": {
        "id": "5PkpU9KneBdX",
        "colab_type": "code",
        "colab": {
          "base_uri": "https://localhost:8080/",
          "height": 908
        },
        "outputId": "31622988-692f-4e66-ad6e-4f903acf907e"
      },
      "source": [
        "!pip install --upgrade --ignore-installed tensorflow-gpu==1.5"
      ],
      "execution_count": 23,
      "outputs": [
        {
          "output_type": "stream",
          "text": [
            "Collecting tensorflow-gpu==1.5\n",
            "\u001b[?25l  Downloading https://files.pythonhosted.org/packages/d5/8b/094add4d2d667ddfef867285e2c16ac4fee6a1d51cece87d6d490b6e5571/tensorflow_gpu-1.5.0-cp36-cp36m-manylinux1_x86_64.whl (201.9MB)\n",
            "\u001b[K     |████████████████████████████████| 201.9MB 73kB/s \n",
            "\u001b[?25hCollecting six>=1.10.0\n",
            "  Downloading https://files.pythonhosted.org/packages/65/26/32b8464df2a97e6dd1b656ed26b2c194606c16fe163c695a992b36c11cdf/six-1.13.0-py2.py3-none-any.whl\n",
            "Collecting numpy>=1.12.1\n",
            "\u001b[?25l  Downloading https://files.pythonhosted.org/packages/0e/46/ae6773894f7eacf53308086287897ec568eac9768918d913d5b9d366c5db/numpy-1.17.3-cp36-cp36m-manylinux1_x86_64.whl (20.0MB)\n",
            "\u001b[K     |████████████████████████████████| 20.0MB 439kB/s \n",
            "\u001b[?25hCollecting protobuf>=3.4.0\n",
            "\u001b[?25l  Downloading https://files.pythonhosted.org/packages/a8/52/d8d2dbff74b8bf517c42db8d44c3f9ef6555e6f5d6caddfa3f207b9143df/protobuf-3.10.0-cp36-cp36m-manylinux1_x86_64.whl (1.3MB)\n",
            "\u001b[K     |████████████████████████████████| 1.3MB 36.4MB/s \n",
            "\u001b[?25hCollecting tensorflow-tensorboard<1.6.0,>=1.5.0\n",
            "\u001b[?25l  Downloading https://files.pythonhosted.org/packages/cc/fa/91c06952517b4f1bc075545b062a4112e30cebe558a6b962816cb33efa27/tensorflow_tensorboard-1.5.1-py3-none-any.whl (3.0MB)\n",
            "\u001b[K     |████████████████████████████████| 3.0MB 26.3MB/s \n",
            "\u001b[?25hCollecting wheel>=0.26\n",
            "  Downloading https://files.pythonhosted.org/packages/00/83/b4a77d044e78ad1a45610eb88f745be2fd2c6d658f9798a15e384b7d57c9/wheel-0.33.6-py2.py3-none-any.whl\n",
            "Collecting absl-py>=0.1.6\n",
            "\u001b[?25l  Downloading https://files.pythonhosted.org/packages/3b/72/e6e483e2db953c11efa44ee21c5fdb6505c4dffa447b4263ca8af6676b62/absl-py-0.8.1.tar.gz (103kB)\n",
            "\u001b[K     |████████████████████████████████| 112kB 53.2MB/s \n",
            "\u001b[?25hCollecting setuptools\n",
            "\u001b[?25l  Downloading https://files.pythonhosted.org/packages/d9/de/554b6310ac87c5b921bc45634b07b11394fe63bc4cb5176f5240addf18ab/setuptools-41.6.0-py2.py3-none-any.whl (582kB)\n",
            "\u001b[K     |████████████████████████████████| 583kB 48.2MB/s \n",
            "\u001b[?25hCollecting markdown>=2.6.8\n",
            "\u001b[?25l  Downloading https://files.pythonhosted.org/packages/c0/4e/fd492e91abdc2d2fcb70ef453064d980688762079397f779758e055f6575/Markdown-3.1.1-py2.py3-none-any.whl (87kB)\n",
            "\u001b[K     |████████████████████████████████| 92kB 12.1MB/s \n",
            "\u001b[?25hCollecting werkzeug>=0.11.10\n",
            "\u001b[?25l  Downloading https://files.pythonhosted.org/packages/ce/42/3aeda98f96e85fd26180534d36570e4d18108d62ae36f87694b476b83d6f/Werkzeug-0.16.0-py2.py3-none-any.whl (327kB)\n",
            "\u001b[K     |████████████████████████████████| 327kB 45.9MB/s \n",
            "\u001b[?25hCollecting html5lib==0.9999999\n",
            "\u001b[?25l  Downloading https://files.pythonhosted.org/packages/ae/ae/bcb60402c60932b32dfaf19bb53870b29eda2cd17551ba5639219fb5ebf9/html5lib-0.9999999.tar.gz (889kB)\n",
            "\u001b[K     |████████████████████████████████| 890kB 15.2MB/s \n",
            "\u001b[?25hCollecting bleach==1.5.0\n",
            "  Downloading https://files.pythonhosted.org/packages/33/70/86c5fec937ea4964184d4d6c4f0b9551564f821e1c3575907639036d9b90/bleach-1.5.0-py2.py3-none-any.whl\n",
            "Building wheels for collected packages: absl-py, html5lib\n",
            "  Building wheel for absl-py (setup.py) ... \u001b[?25l\u001b[?25hdone\n",
            "  Created wheel for absl-py: filename=absl_py-0.8.1-cp36-none-any.whl size=121167 sha256=4c0d01e4cef0e54799530eb7dfc531b06a1317b188dc4829af65e8b0c7f96988\n",
            "  Stored in directory: /root/.cache/pip/wheels/a7/15/a0/0a0561549ad11cdc1bc8fa1191a353efd30facf6bfb507aefc\n",
            "  Building wheel for html5lib (setup.py) ... \u001b[?25l\u001b[?25hdone\n",
            "  Created wheel for html5lib: filename=html5lib-0.9999999-cp36-none-any.whl size=107221 sha256=929a7dcbf3e010841fdc147b2324ed7bafb2a651065f8f584e0654dc67f3ccd7\n",
            "  Stored in directory: /root/.cache/pip/wheels/50/ae/f9/d2b189788efcf61d1ee0e36045476735c838898eef1cad6e29\n",
            "Successfully built absl-py html5lib\n",
            "\u001b[31mERROR: tensorflow 1.15.0 has requirement tensorboard<1.16.0,>=1.15.0, but you'll have tensorboard 1.12.2 which is incompatible.\u001b[0m\n",
            "\u001b[31mERROR: google-colab 1.0.0 has requirement six~=1.12.0, but you'll have six 1.13.0 which is incompatible.\u001b[0m\n",
            "\u001b[31mERROR: datascience 0.10.6 has requirement folium==0.2.1, but you'll have folium 0.8.3 which is incompatible.\u001b[0m\n",
            "\u001b[31mERROR: albumentations 0.1.12 has requirement imgaug<0.2.7,>=0.2.5, but you'll have imgaug 0.2.9 which is incompatible.\u001b[0m\n",
            "Installing collected packages: six, numpy, setuptools, protobuf, markdown, werkzeug, html5lib, bleach, wheel, tensorflow-tensorboard, absl-py, tensorflow-gpu\n",
            "Successfully installed absl-py-0.8.1 bleach-3.1.0 html5lib-1.0.1 markdown-3.1.1 numpy-1.17.3 protobuf-3.10.0 setuptools-41.6.0 six-1.13.0 tensorflow-gpu-1.12.0 tensorflow-tensorboard-1.5.1 werkzeug-0.16.0 wheel-0.33.6\n"
          ],
          "name": "stdout"
        },
        {
          "output_type": "display_data",
          "data": {
            "application/vnd.colab-display-data+json": {
              "pip_warning": {
                "packages": [
                  "google",
                  "numpy",
                  "pkg_resources",
                  "six"
                ]
              }
            }
          },
          "metadata": {
            "tags": []
          }
        }
      ]
    },
    {
      "cell_type": "code",
      "metadata": {
        "id": "za4HoSvhcwcm",
        "colab_type": "code",
        "colab": {
          "base_uri": "https://localhost:8080/",
          "height": 188
        },
        "outputId": "70c1a50a-a62f-45c6-9517-4c8a9a093907"
      },
      "source": [
        "pip install -r requirements.txt"
      ],
      "execution_count": 7,
      "outputs": [
        {
          "output_type": "stream",
          "text": [
            "Requirement already satisfied: fire>=0.1.3 in /usr/local/lib/python3.6/dist-packages (from -r requirements.txt (line 1)) (0.2.1)\n",
            "Requirement already satisfied: regex==2017.4.5 in /usr/local/lib/python3.6/dist-packages (from -r requirements.txt (line 2)) (2017.4.5)\n",
            "Requirement already satisfied: requests==2.21.0 in /usr/local/lib/python3.6/dist-packages (from -r requirements.txt (line 3)) (2.21.0)\n",
            "Requirement already satisfied: tqdm==4.31.1 in /usr/local/lib/python3.6/dist-packages (from -r requirements.txt (line 4)) (4.31.1)\n",
            "Requirement already satisfied: termcolor in /usr/local/lib/python3.6/dist-packages (from fire>=0.1.3->-r requirements.txt (line 1)) (1.1.0)\n",
            "Requirement already satisfied: six in /usr/local/lib/python3.6/dist-packages (from fire>=0.1.3->-r requirements.txt (line 1)) (1.12.0)\n",
            "Requirement already satisfied: certifi>=2017.4.17 in /usr/local/lib/python3.6/dist-packages (from requests==2.21.0->-r requirements.txt (line 3)) (2019.9.11)\n",
            "Requirement already satisfied: urllib3<1.25,>=1.21.1 in /usr/local/lib/python3.6/dist-packages (from requests==2.21.0->-r requirements.txt (line 3)) (1.24.3)\n",
            "Requirement already satisfied: chardet<3.1.0,>=3.0.2 in /usr/local/lib/python3.6/dist-packages (from requests==2.21.0->-r requirements.txt (line 3)) (3.0.4)\n",
            "Requirement already satisfied: idna<2.9,>=2.5 in /usr/local/lib/python3.6/dist-packages (from requests==2.21.0->-r requirements.txt (line 3)) (2.8)\n"
          ],
          "name": "stdout"
        }
      ]
    },
    {
      "cell_type": "code",
      "metadata": {
        "id": "XJpLVSKbdg-h",
        "colab_type": "code",
        "colab": {
          "base_uri": "https://localhost:8080/",
          "height": 68
        },
        "outputId": "132e0246-89de-40ab-ada6-f52324f9ee88"
      },
      "source": [
        "ls"
      ],
      "execution_count": 8,
      "outputs": [
        {
          "output_type": "stream",
          "text": [
            "CONTRIBUTORS.md  Dockerfile.gpu     LICENSE        requirements.txt\n",
            "DEVELOPERS.md    domains.txt        model_card.md  \u001b[0m\u001b[01;34msrc\u001b[0m/\n",
            "Dockerfile.cpu   download_model.py  README.md\n"
          ],
          "name": "stdout"
        }
      ]
    },
    {
      "cell_type": "code",
      "metadata": {
        "id": "XQkhU-BBd53n",
        "colab_type": "code",
        "colab": {
          "base_uri": "https://localhost:8080/",
          "height": 137
        },
        "outputId": "92168532-3cf7-4d7f-c7d9-6719167b184f"
      },
      "source": [
        "\n",
        "!python3 download_model.py 1558M"
      ],
      "execution_count": 9,
      "outputs": [
        {
          "output_type": "stream",
          "text": [
            "\rFetching checkpoint:   0%|                                              | 0.00/77.0 [00:00<?, ?it/s]\rFetching checkpoint: 1.00kit [00:00, 557kit/s]                                                      \n",
            "Fetching encoder.json: 1.04Mit [00:00, 35.1Mit/s]                                                   \n",
            "Fetching hparams.json: 1.00kit [00:00, 677kit/s]                                                    \n",
            "Fetching model.ckpt.data-00000-of-00001: 6.23Git [02:21, 44.0Mit/s]                                 \n",
            "Fetching model.ckpt.index: 21.0kit [00:00, 11.0Mit/s]                                               \n",
            "Fetching model.ckpt.meta: 1.84Mit [00:00, 45.3Mit/s]                                                \n",
            "Fetching vocab.bpe: 457kit [00:00, 35.6Mit/s]                                                       \n"
          ],
          "name": "stdout"
        }
      ]
    },
    {
      "cell_type": "code",
      "metadata": {
        "id": "iB05ZWOLdA9V",
        "colab_type": "code",
        "colab": {
          "base_uri": "https://localhost:8080/",
          "height": 34
        },
        "outputId": "5f3364f6-fe8a-4b69-c457-db71914c0512"
      },
      "source": [
        "cd src/"
      ],
      "execution_count": 4,
      "outputs": [
        {
          "output_type": "stream",
          "text": [
            "/content/gpt-2/src\n"
          ],
          "name": "stdout"
        }
      ]
    },
    {
      "cell_type": "code",
      "metadata": {
        "id": "LtbcEhkad9l5",
        "colab_type": "code",
        "colab": {
          "base_uri": "https://localhost:8080/",
          "height": 68
        },
        "outputId": "01d43338-492f-47ef-aa9a-0264a9e44e52"
      },
      "source": [
        "ls"
      ],
      "execution_count": 18,
      "outputs": [
        {
          "output_type": "stream",
          "text": [
            "encoder.py                           model.py\n",
            "\u001b[0m\u001b[01;32mgenerate_unconditional_samples.py\u001b[0m*   sample.py\n",
            "\u001b[01;32minteractive_conditional_samples.py\u001b[0m*\n"
          ],
          "name": "stdout"
        }
      ]
    },
    {
      "cell_type": "code",
      "metadata": {
        "id": "peBS5YjeiD8Q",
        "colab_type": "code",
        "colab": {
          "base_uri": "https://localhost:8080/",
          "height": 771
        },
        "outputId": "5558e00e-ea24-4699-e065-caf3eee9a564"
      },
      "source": [
        "!python generate_unconditional_samples.py 1558M"
      ],
      "execution_count": 5,
      "outputs": [
        {
          "output_type": "stream",
          "text": [
            "Traceback (most recent call last):\n",
            "  File \"/usr/local/lib/python3.6/dist-packages/tensorflow/python/pywrap_tensorflow.py\", line 58, in <module>\n",
            "    from tensorflow.python.pywrap_tensorflow_internal import *\n",
            "  File \"/usr/local/lib/python3.6/dist-packages/tensorflow/python/pywrap_tensorflow_internal.py\", line 28, in <module>\n",
            "    _pywrap_tensorflow_internal = swig_import_helper()\n",
            "  File \"/usr/local/lib/python3.6/dist-packages/tensorflow/python/pywrap_tensorflow_internal.py\", line 24, in swig_import_helper\n",
            "    _mod = imp.load_module('_pywrap_tensorflow_internal', fp, pathname, description)\n",
            "  File \"/usr/lib/python3.6/imp.py\", line 243, in load_module\n",
            "    return load_dynamic(name, filename, file)\n",
            "  File \"/usr/lib/python3.6/imp.py\", line 343, in load_dynamic\n",
            "    return _load(spec)\n",
            "ImportError: libcublas.so.9.0: cannot open shared object file: No such file or directory\n",
            "\n",
            "During handling of the above exception, another exception occurred:\n",
            "\n",
            "Traceback (most recent call last):\n",
            "  File \"generate_unconditional_samples.py\", line 7, in <module>\n",
            "    import tensorflow as tf\n",
            "  File \"/usr/local/lib/python3.6/dist-packages/tensorflow/__init__.py\", line 24, in <module>\n",
            "    from tensorflow.python import *\n",
            "  File \"/usr/local/lib/python3.6/dist-packages/tensorflow/python/__init__.py\", line 49, in <module>\n",
            "    from tensorflow.python import pywrap_tensorflow\n",
            "  File \"/usr/local/lib/python3.6/dist-packages/tensorflow/python/pywrap_tensorflow.py\", line 74, in <module>\n",
            "    raise ImportError(msg)\n",
            "ImportError: Traceback (most recent call last):\n",
            "  File \"/usr/local/lib/python3.6/dist-packages/tensorflow/python/pywrap_tensorflow.py\", line 58, in <module>\n",
            "    from tensorflow.python.pywrap_tensorflow_internal import *\n",
            "  File \"/usr/local/lib/python3.6/dist-packages/tensorflow/python/pywrap_tensorflow_internal.py\", line 28, in <module>\n",
            "    _pywrap_tensorflow_internal = swig_import_helper()\n",
            "  File \"/usr/local/lib/python3.6/dist-packages/tensorflow/python/pywrap_tensorflow_internal.py\", line 24, in swig_import_helper\n",
            "    _mod = imp.load_module('_pywrap_tensorflow_internal', fp, pathname, description)\n",
            "  File \"/usr/lib/python3.6/imp.py\", line 243, in load_module\n",
            "    return load_dynamic(name, filename, file)\n",
            "  File \"/usr/lib/python3.6/imp.py\", line 343, in load_dynamic\n",
            "    return _load(spec)\n",
            "ImportError: libcublas.so.9.0: cannot open shared object file: No such file or directory\n",
            "\n",
            "\n",
            "Failed to load the native TensorFlow runtime.\n",
            "\n",
            "See https://www.tensorflow.org/install/install_sources#common_installation_problems\n",
            "\n",
            "for some common reasons and solutions.  Include the entire stack trace\n",
            "above this error message when asking for help.\n"
          ],
          "name": "stdout"
        }
      ]
    },
    {
      "cell_type": "code",
      "metadata": {
        "id": "O09E3S1tfPok",
        "colab_type": "code",
        "colab": {
          "base_uri": "https://localhost:8080/",
          "height": 754
        },
        "outputId": "b3270fbd-0b40-4bb0-eb37-796fe3696461"
      },
      "source": [
        "!python3 -c 'import tensorflow as tf; print(tf.__version__)'  # for Python 3"
      ],
      "execution_count": 22,
      "outputs": [
        {
          "output_type": "stream",
          "text": [
            "Traceback (most recent call last):\n",
            "  File \"/usr/local/lib/python3.6/dist-packages/tensorflow/python/pywrap_tensorflow.py\", line 58, in <module>\n",
            "    from tensorflow.python.pywrap_tensorflow_internal import *\n",
            "  File \"/usr/local/lib/python3.6/dist-packages/tensorflow/python/pywrap_tensorflow_internal.py\", line 28, in <module>\n",
            "    _pywrap_tensorflow_internal = swig_import_helper()\n",
            "  File \"/usr/local/lib/python3.6/dist-packages/tensorflow/python/pywrap_tensorflow_internal.py\", line 24, in swig_import_helper\n",
            "    _mod = imp.load_module('_pywrap_tensorflow_internal', fp, pathname, description)\n",
            "  File \"/usr/lib/python3.6/imp.py\", line 243, in load_module\n",
            "    return load_dynamic(name, filename, file)\n",
            "  File \"/usr/lib/python3.6/imp.py\", line 343, in load_dynamic\n",
            "    return _load(spec)\n",
            "ImportError: libcublas.so.9.0: cannot open shared object file: No such file or directory\n",
            "\n",
            "During handling of the above exception, another exception occurred:\n",
            "\n",
            "Traceback (most recent call last):\n",
            "  File \"<string>\", line 1, in <module>\n",
            "  File \"/usr/local/lib/python3.6/dist-packages/tensorflow/__init__.py\", line 24, in <module>\n",
            "    from tensorflow.python import pywrap_tensorflow  # pylint: disable=unused-import\n",
            "  File \"/usr/local/lib/python3.6/dist-packages/tensorflow/python/__init__.py\", line 49, in <module>\n",
            "    from tensorflow.python import pywrap_tensorflow\n",
            "  File \"/usr/local/lib/python3.6/dist-packages/tensorflow/python/pywrap_tensorflow.py\", line 74, in <module>\n",
            "    raise ImportError(msg)\n",
            "ImportError: Traceback (most recent call last):\n",
            "  File \"/usr/local/lib/python3.6/dist-packages/tensorflow/python/pywrap_tensorflow.py\", line 58, in <module>\n",
            "    from tensorflow.python.pywrap_tensorflow_internal import *\n",
            "  File \"/usr/local/lib/python3.6/dist-packages/tensorflow/python/pywrap_tensorflow_internal.py\", line 28, in <module>\n",
            "    _pywrap_tensorflow_internal = swig_import_helper()\n",
            "  File \"/usr/local/lib/python3.6/dist-packages/tensorflow/python/pywrap_tensorflow_internal.py\", line 24, in swig_import_helper\n",
            "    _mod = imp.load_module('_pywrap_tensorflow_internal', fp, pathname, description)\n",
            "  File \"/usr/lib/python3.6/imp.py\", line 243, in load_module\n",
            "    return load_dynamic(name, filename, file)\n",
            "  File \"/usr/lib/python3.6/imp.py\", line 343, in load_dynamic\n",
            "    return _load(spec)\n",
            "ImportError: libcublas.so.9.0: cannot open shared object file: No such file or directory\n",
            "\n",
            "\n",
            "Failed to load the native TensorFlow runtime.\n",
            "\n",
            "See https://www.tensorflow.org/install/errors\n",
            "\n",
            "for some common reasons and solutions.  Include the entire stack trace\n",
            "above this error message when asking for help.\n"
          ],
          "name": "stdout"
        }
      ]
    }
  ]
}